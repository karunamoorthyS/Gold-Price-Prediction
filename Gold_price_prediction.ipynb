{
  "nbformat": 4,
  "nbformat_minor": 0,
  "metadata": {
    "colab": {
      "name": "Gold price prediction.ipynb",
      "provenance": [],
      "collapsed_sections": []
    },
    "kernelspec": {
      "name": "python3",
      "display_name": "Python 3"
    },
    "language_info": {
      "name": "python"
    }
  },
  "cells": [
    {
      "cell_type": "markdown",
      "metadata": {
        "id": "HvhBe4Ob_c19"
      },
      "source": [
        "Importing the libraries"
      ]
    },
    {
      "cell_type": "code",
      "metadata": {
        "id": "HM0-udjQ_l77"
      },
      "source": [
        "import numpy as np\n",
        "import pandas as pd\n",
        "import matplotlib.pyplot as plt\n",
        "import seaborn as sns\n",
        "from sklearn.model_selection import train_test_split\n",
        "from sklearn.ensemble import RandomForestRegressor\n",
        "from sklearn import metrics"
      ],
      "execution_count": 1,
      "outputs": []
    },
    {
      "cell_type": "markdown",
      "metadata": {
        "id": "gDyziPgWBmEp"
      },
      "source": [
        "Data collection and processing"
      ]
    },
    {
      "cell_type": "code",
      "metadata": {
        "id": "dmRToaZvBLHV"
      },
      "source": [
        "#loading the dataset to pandas DataFrame\n",
        "gold_price = pd.read_csv('/content/gld_price_data.csv')"
      ],
      "execution_count": 3,
      "outputs": []
    },
    {
      "cell_type": "code",
      "metadata": {
        "colab": {
          "base_uri": "https://localhost:8080/",
          "height": 204
        },
        "id": "QOJVMPT9BjiF",
        "outputId": "c3cd5c1b-a444-4ec0-d2bf-b4a6443170c9"
      },
      "source": [
        "#viewing the top 5 rows\n",
        "gold_price.head()"
      ],
      "execution_count": 4,
      "outputs": [
        {
          "output_type": "execute_result",
          "data": {
            "text/html": [
              "<div>\n",
              "<style scoped>\n",
              "    .dataframe tbody tr th:only-of-type {\n",
              "        vertical-align: middle;\n",
              "    }\n",
              "\n",
              "    .dataframe tbody tr th {\n",
              "        vertical-align: top;\n",
              "    }\n",
              "\n",
              "    .dataframe thead th {\n",
              "        text-align: right;\n",
              "    }\n",
              "</style>\n",
              "<table border=\"1\" class=\"dataframe\">\n",
              "  <thead>\n",
              "    <tr style=\"text-align: right;\">\n",
              "      <th></th>\n",
              "      <th>Date</th>\n",
              "      <th>SPX</th>\n",
              "      <th>GLD</th>\n",
              "      <th>USO</th>\n",
              "      <th>SLV</th>\n",
              "      <th>EUR/USD</th>\n",
              "    </tr>\n",
              "  </thead>\n",
              "  <tbody>\n",
              "    <tr>\n",
              "      <th>0</th>\n",
              "      <td>1/2/2008</td>\n",
              "      <td>1447.160034</td>\n",
              "      <td>84.860001</td>\n",
              "      <td>78.470001</td>\n",
              "      <td>15.180</td>\n",
              "      <td>1.471692</td>\n",
              "    </tr>\n",
              "    <tr>\n",
              "      <th>1</th>\n",
              "      <td>1/3/2008</td>\n",
              "      <td>1447.160034</td>\n",
              "      <td>85.570000</td>\n",
              "      <td>78.370003</td>\n",
              "      <td>15.285</td>\n",
              "      <td>1.474491</td>\n",
              "    </tr>\n",
              "    <tr>\n",
              "      <th>2</th>\n",
              "      <td>1/4/2008</td>\n",
              "      <td>1411.630005</td>\n",
              "      <td>85.129997</td>\n",
              "      <td>77.309998</td>\n",
              "      <td>15.167</td>\n",
              "      <td>1.475492</td>\n",
              "    </tr>\n",
              "    <tr>\n",
              "      <th>3</th>\n",
              "      <td>1/7/2008</td>\n",
              "      <td>1416.180054</td>\n",
              "      <td>84.769997</td>\n",
              "      <td>75.500000</td>\n",
              "      <td>15.053</td>\n",
              "      <td>1.468299</td>\n",
              "    </tr>\n",
              "    <tr>\n",
              "      <th>4</th>\n",
              "      <td>1/8/2008</td>\n",
              "      <td>1390.189941</td>\n",
              "      <td>86.779999</td>\n",
              "      <td>76.059998</td>\n",
              "      <td>15.590</td>\n",
              "      <td>1.557099</td>\n",
              "    </tr>\n",
              "  </tbody>\n",
              "</table>\n",
              "</div>"
            ],
            "text/plain": [
              "       Date          SPX        GLD        USO     SLV   EUR/USD\n",
              "0  1/2/2008  1447.160034  84.860001  78.470001  15.180  1.471692\n",
              "1  1/3/2008  1447.160034  85.570000  78.370003  15.285  1.474491\n",
              "2  1/4/2008  1411.630005  85.129997  77.309998  15.167  1.475492\n",
              "3  1/7/2008  1416.180054  84.769997  75.500000  15.053  1.468299\n",
              "4  1/8/2008  1390.189941  86.779999  76.059998  15.590  1.557099"
            ]
          },
          "metadata": {},
          "execution_count": 4
        }
      ]
    },
    {
      "cell_type": "code",
      "metadata": {
        "colab": {
          "base_uri": "https://localhost:8080/",
          "height": 204
        },
        "id": "vm5R7wyJB37q",
        "outputId": "734fd3ad-b57d-4b4e-b21f-98ac89ca01d7"
      },
      "source": [
        "#the last 5 rows\n",
        "gold_price.tail()"
      ],
      "execution_count": 5,
      "outputs": [
        {
          "output_type": "execute_result",
          "data": {
            "text/html": [
              "<div>\n",
              "<style scoped>\n",
              "    .dataframe tbody tr th:only-of-type {\n",
              "        vertical-align: middle;\n",
              "    }\n",
              "\n",
              "    .dataframe tbody tr th {\n",
              "        vertical-align: top;\n",
              "    }\n",
              "\n",
              "    .dataframe thead th {\n",
              "        text-align: right;\n",
              "    }\n",
              "</style>\n",
              "<table border=\"1\" class=\"dataframe\">\n",
              "  <thead>\n",
              "    <tr style=\"text-align: right;\">\n",
              "      <th></th>\n",
              "      <th>Date</th>\n",
              "      <th>SPX</th>\n",
              "      <th>GLD</th>\n",
              "      <th>USO</th>\n",
              "      <th>SLV</th>\n",
              "      <th>EUR/USD</th>\n",
              "    </tr>\n",
              "  </thead>\n",
              "  <tbody>\n",
              "    <tr>\n",
              "      <th>2285</th>\n",
              "      <td>5/8/2018</td>\n",
              "      <td>2671.919922</td>\n",
              "      <td>124.589996</td>\n",
              "      <td>14.0600</td>\n",
              "      <td>15.5100</td>\n",
              "      <td>1.186789</td>\n",
              "    </tr>\n",
              "    <tr>\n",
              "      <th>2286</th>\n",
              "      <td>5/9/2018</td>\n",
              "      <td>2697.790039</td>\n",
              "      <td>124.330002</td>\n",
              "      <td>14.3700</td>\n",
              "      <td>15.5300</td>\n",
              "      <td>1.184722</td>\n",
              "    </tr>\n",
              "    <tr>\n",
              "      <th>2287</th>\n",
              "      <td>5/10/2018</td>\n",
              "      <td>2723.070068</td>\n",
              "      <td>125.180000</td>\n",
              "      <td>14.4100</td>\n",
              "      <td>15.7400</td>\n",
              "      <td>1.191753</td>\n",
              "    </tr>\n",
              "    <tr>\n",
              "      <th>2288</th>\n",
              "      <td>5/14/2018</td>\n",
              "      <td>2730.129883</td>\n",
              "      <td>124.489998</td>\n",
              "      <td>14.3800</td>\n",
              "      <td>15.5600</td>\n",
              "      <td>1.193118</td>\n",
              "    </tr>\n",
              "    <tr>\n",
              "      <th>2289</th>\n",
              "      <td>5/16/2018</td>\n",
              "      <td>2725.780029</td>\n",
              "      <td>122.543800</td>\n",
              "      <td>14.4058</td>\n",
              "      <td>15.4542</td>\n",
              "      <td>1.182033</td>\n",
              "    </tr>\n",
              "  </tbody>\n",
              "</table>\n",
              "</div>"
            ],
            "text/plain": [
              "           Date          SPX         GLD      USO      SLV   EUR/USD\n",
              "2285   5/8/2018  2671.919922  124.589996  14.0600  15.5100  1.186789\n",
              "2286   5/9/2018  2697.790039  124.330002  14.3700  15.5300  1.184722\n",
              "2287  5/10/2018  2723.070068  125.180000  14.4100  15.7400  1.191753\n",
              "2288  5/14/2018  2730.129883  124.489998  14.3800  15.5600  1.193118\n",
              "2289  5/16/2018  2725.780029  122.543800  14.4058  15.4542  1.182033"
            ]
          },
          "metadata": {},
          "execution_count": 5
        }
      ]
    },
    {
      "cell_type": "code",
      "metadata": {
        "colab": {
          "base_uri": "https://localhost:8080/"
        },
        "id": "6Vr6nHJyC7nh",
        "outputId": "815e9492-a359-40bb-95dc-a516db7956a2"
      },
      "source": [
        "# The number of rows and column\n",
        "gold_price.shape"
      ],
      "execution_count": 6,
      "outputs": [
        {
          "output_type": "execute_result",
          "data": {
            "text/plain": [
              "(2290, 6)"
            ]
          },
          "metadata": {},
          "execution_count": 6
        }
      ]
    },
    {
      "cell_type": "code",
      "metadata": {
        "colab": {
          "base_uri": "https://localhost:8080/"
        },
        "id": "1Py8UIonDF-T",
        "outputId": "10ce23ab-5583-4d84-c9a3-5048daaba1b2"
      },
      "source": [
        "# To see the basic info of data\n",
        "gold_price.info()\n"
      ],
      "execution_count": 7,
      "outputs": [
        {
          "output_type": "stream",
          "name": "stdout",
          "text": [
            "<class 'pandas.core.frame.DataFrame'>\n",
            "RangeIndex: 2290 entries, 0 to 2289\n",
            "Data columns (total 6 columns):\n",
            " #   Column   Non-Null Count  Dtype  \n",
            "---  ------   --------------  -----  \n",
            " 0   Date     2290 non-null   object \n",
            " 1   SPX      2290 non-null   float64\n",
            " 2   GLD      2290 non-null   float64\n",
            " 3   USO      2290 non-null   float64\n",
            " 4   SLV      2290 non-null   float64\n",
            " 5   EUR/USD  2290 non-null   float64\n",
            "dtypes: float64(5), object(1)\n",
            "memory usage: 107.5+ KB\n"
          ]
        }
      ]
    },
    {
      "cell_type": "code",
      "metadata": {
        "colab": {
          "base_uri": "https://localhost:8080/"
        },
        "id": "EUv0H96UDbGK",
        "outputId": "199615c2-0dac-4222-9895-a2174a255c22"
      },
      "source": [
        "#for seeing the missing values\n",
        "gold_price.isnull().sum()"
      ],
      "execution_count": 8,
      "outputs": [
        {
          "output_type": "execute_result",
          "data": {
            "text/plain": [
              "Date       0\n",
              "SPX        0\n",
              "GLD        0\n",
              "USO        0\n",
              "SLV        0\n",
              "EUR/USD    0\n",
              "dtype: int64"
            ]
          },
          "metadata": {},
          "execution_count": 8
        }
      ]
    },
    {
      "cell_type": "code",
      "metadata": {
        "colab": {
          "base_uri": "https://localhost:8080/",
          "height": 297
        },
        "id": "GJFJA_8rD4rz",
        "outputId": "f617edde-d251-4ec0-c71b-b2f7dd234068"
      },
      "source": [
        "#viewing the stastical measure of data\n",
        "gold_price.describe()"
      ],
      "execution_count": 9,
      "outputs": [
        {
          "output_type": "execute_result",
          "data": {
            "text/html": [
              "<div>\n",
              "<style scoped>\n",
              "    .dataframe tbody tr th:only-of-type {\n",
              "        vertical-align: middle;\n",
              "    }\n",
              "\n",
              "    .dataframe tbody tr th {\n",
              "        vertical-align: top;\n",
              "    }\n",
              "\n",
              "    .dataframe thead th {\n",
              "        text-align: right;\n",
              "    }\n",
              "</style>\n",
              "<table border=\"1\" class=\"dataframe\">\n",
              "  <thead>\n",
              "    <tr style=\"text-align: right;\">\n",
              "      <th></th>\n",
              "      <th>SPX</th>\n",
              "      <th>GLD</th>\n",
              "      <th>USO</th>\n",
              "      <th>SLV</th>\n",
              "      <th>EUR/USD</th>\n",
              "    </tr>\n",
              "  </thead>\n",
              "  <tbody>\n",
              "    <tr>\n",
              "      <th>count</th>\n",
              "      <td>2290.000000</td>\n",
              "      <td>2290.000000</td>\n",
              "      <td>2290.000000</td>\n",
              "      <td>2290.000000</td>\n",
              "      <td>2290.000000</td>\n",
              "    </tr>\n",
              "    <tr>\n",
              "      <th>mean</th>\n",
              "      <td>1654.315776</td>\n",
              "      <td>122.732875</td>\n",
              "      <td>31.842221</td>\n",
              "      <td>20.084997</td>\n",
              "      <td>1.283653</td>\n",
              "    </tr>\n",
              "    <tr>\n",
              "      <th>std</th>\n",
              "      <td>519.111540</td>\n",
              "      <td>23.283346</td>\n",
              "      <td>19.523517</td>\n",
              "      <td>7.092566</td>\n",
              "      <td>0.131547</td>\n",
              "    </tr>\n",
              "    <tr>\n",
              "      <th>min</th>\n",
              "      <td>676.530029</td>\n",
              "      <td>70.000000</td>\n",
              "      <td>7.960000</td>\n",
              "      <td>8.850000</td>\n",
              "      <td>1.039047</td>\n",
              "    </tr>\n",
              "    <tr>\n",
              "      <th>25%</th>\n",
              "      <td>1239.874969</td>\n",
              "      <td>109.725000</td>\n",
              "      <td>14.380000</td>\n",
              "      <td>15.570000</td>\n",
              "      <td>1.171313</td>\n",
              "    </tr>\n",
              "    <tr>\n",
              "      <th>50%</th>\n",
              "      <td>1551.434998</td>\n",
              "      <td>120.580002</td>\n",
              "      <td>33.869999</td>\n",
              "      <td>17.268500</td>\n",
              "      <td>1.303296</td>\n",
              "    </tr>\n",
              "    <tr>\n",
              "      <th>75%</th>\n",
              "      <td>2073.010070</td>\n",
              "      <td>132.840004</td>\n",
              "      <td>37.827501</td>\n",
              "      <td>22.882499</td>\n",
              "      <td>1.369971</td>\n",
              "    </tr>\n",
              "    <tr>\n",
              "      <th>max</th>\n",
              "      <td>2872.870117</td>\n",
              "      <td>184.589996</td>\n",
              "      <td>117.480003</td>\n",
              "      <td>47.259998</td>\n",
              "      <td>1.598798</td>\n",
              "    </tr>\n",
              "  </tbody>\n",
              "</table>\n",
              "</div>"
            ],
            "text/plain": [
              "               SPX          GLD          USO          SLV      EUR/USD\n",
              "count  2290.000000  2290.000000  2290.000000  2290.000000  2290.000000\n",
              "mean   1654.315776   122.732875    31.842221    20.084997     1.283653\n",
              "std     519.111540    23.283346    19.523517     7.092566     0.131547\n",
              "min     676.530029    70.000000     7.960000     8.850000     1.039047\n",
              "25%    1239.874969   109.725000    14.380000    15.570000     1.171313\n",
              "50%    1551.434998   120.580002    33.869999    17.268500     1.303296\n",
              "75%    2073.010070   132.840004    37.827501    22.882499     1.369971\n",
              "max    2872.870117   184.589996   117.480003    47.259998     1.598798"
            ]
          },
          "metadata": {},
          "execution_count": 9
        }
      ]
    },
    {
      "cell_type": "code",
      "metadata": {
        "id": "otAcuvG7EodS"
      },
      "source": [
        "#Finding the Correlation \n",
        "Correlation_data = gold_price.corr()"
      ],
      "execution_count": 10,
      "outputs": []
    },
    {
      "cell_type": "code",
      "metadata": {
        "colab": {
          "base_uri": "https://localhost:8080/",
          "height": 487
        },
        "id": "CPNbe72BGUgf",
        "outputId": "1a8af13a-c355-448d-8ae7-e3166ab440bd"
      },
      "source": [
        "#ploting a heatmap \n",
        "plt.figure(figsize=(8,8))\n",
        "sns.heatmap(Correlation_data,cmap='Blues',fmt='.1f',annot=True,annot_kws={'size':8},square=True,cbar=True)"
      ],
      "execution_count": 16,
      "outputs": [
        {
          "output_type": "execute_result",
          "data": {
            "text/plain": [
              "<matplotlib.axes._subplots.AxesSubplot at 0x7faad6b9fc50>"
            ]
          },
          "metadata": {},
          "execution_count": 16
        },
        {
          "output_type": "display_data",
          "data": {
            "image/png": "[encoded data removed]",
            "text/plain": [
              "<Figure size 576x576 with 2 Axes>"
            ]
          },
          "metadata": {
            "needs_background": "light"
          }
        }
      ]
    },
    {
      "cell_type": "code",
      "metadata": {
        "colab": {
          "base_uri": "https://localhost:8080/"
        },
        "id": "mu62cCmoIvhG",
        "outputId": "571ed400-7eef-48df-aff7-fec3ed21b2dc"
      },
      "source": [
        "#corellation values of GLD\n",
        "print(Correlation_data['GLD'])"
      ],
      "execution_count": 17,
      "outputs": [
        {
          "output_type": "stream",
          "name": "stdout",
          "text": [
            "SPX        0.049345\n",
            "GLD        1.000000\n",
            "USO       -0.186360\n",
            "SLV        0.866632\n",
            "EUR/USD   -0.024375\n",
            "Name: GLD, dtype: float64\n"
          ]
        }
      ]
    },
    {
      "cell_type": "code",
      "metadata": {
        "colab": {
          "base_uri": "https://localhost:8080/",
          "height": 354
        },
        "id": "iaaqAwTrJwNn",
        "outputId": "14b10f26-f131-4dee-eb92-2a9839829ff3"
      },
      "source": [
        "#checking the distribution price of GLD\n",
        "sns.distplot(gold_price['GLD'],color='y')"
      ],
      "execution_count": 19,
      "outputs": [
        {
          "output_type": "stream",
          "name": "stderr",
          "text": [
            "/usr/local/lib/python3.7/dist-packages/seaborn/distributions.py:2557: FutureWarning: `distplot` is a deprecated function and will be removed in a future version. Please adapt your code to use either `displot` (a figure-level function with similar flexibility) or `histplot` (an axes-level function for histograms).\n",
            "  warnings.warn(msg, FutureWarning)\n"
          ]
        },
        {
          "output_type": "execute_result",
          "data": {
            "text/plain": [
              "<matplotlib.axes._subplots.AxesSubplot at 0x7faac9edc150>"
            ]
          },
          "metadata": {},
          "execution_count": 19
        },
        {
          "output_type": "display_data",
          "data": {
            "image/png": "[encoded data removed]",
            "text/plain": [
              "<Figure size 432x288 with 1 Axes>"
            ]
          },
          "metadata": {
            "needs_background": "light"
          }
        }
      ]
    },
    {
      "cell_type": "markdown",
      "metadata": {
        "id": "Oswk4fw1K8eM"
      },
      "source": [
        "Splitting the Feature and the Target"
      ]
    },
    {
      "cell_type": "code",
      "metadata": {
        "id": "fXJllge3KVoC"
      },
      "source": [
        "X = gold_price.drop(['Date','GLD'],axis=1)\n",
        "Y = gold_price['GLD']"
      ],
      "execution_count": 21,
      "outputs": []
    },
    {
      "cell_type": "code",
      "metadata": {
        "colab": {
          "base_uri": "https://localhost:8080/"
        },
        "id": "BWnPSUySLXTc",
        "outputId": "10d1639c-a41d-487c-90cf-111f5ebc1dd1"
      },
      "source": [
        "print(X)"
      ],
      "execution_count": 22,
      "outputs": [
        {
          "output_type": "stream",
          "name": "stdout",
          "text": [
            "              SPX        USO      SLV   EUR/USD\n",
            "0     1447.160034  78.470001  15.1800  1.471692\n",
            "1     1447.160034  78.370003  15.2850  1.474491\n",
            "2     1411.630005  77.309998  15.1670  1.475492\n",
            "3     1416.180054  75.500000  15.0530  1.468299\n",
            "4     1390.189941  76.059998  15.5900  1.557099\n",
            "...           ...        ...      ...       ...\n",
            "2285  2671.919922  14.060000  15.5100  1.186789\n",
            "2286  2697.790039  14.370000  15.5300  1.184722\n",
            "2287  2723.070068  14.410000  15.7400  1.191753\n",
            "2288  2730.129883  14.380000  15.5600  1.193118\n",
            "2289  2725.780029  14.405800  15.4542  1.182033\n",
            "\n",
            "[2290 rows x 4 columns]\n"
          ]
        }
      ]
    },
    {
      "cell_type": "code",
      "metadata": {
        "colab": {
          "base_uri": "https://localhost:8080/"
        },
        "id": "pdL_Xji3MJbH",
        "outputId": "e8fa423e-4b76-4d57-90a6-b35499c2675f"
      },
      "source": [
        "print(Y)"
      ],
      "execution_count": 23,
      "outputs": [
        {
          "output_type": "stream",
          "name": "stdout",
          "text": [
            "0        84.860001\n",
            "1        85.570000\n",
            "2        85.129997\n",
            "3        84.769997\n",
            "4        86.779999\n",
            "           ...    \n",
            "2285    124.589996\n",
            "2286    124.330002\n",
            "2287    125.180000\n",
            "2288    124.489998\n",
            "2289    122.543800\n",
            "Name: GLD, Length: 2290, dtype: float64\n"
          ]
        }
      ]
    },
    {
      "cell_type": "markdown",
      "metadata": {
        "id": "1TTvYENZMOyQ"
      },
      "source": [
        "Splliting the Training and Test data"
      ]
    },
    {
      "cell_type": "code",
      "metadata": {
        "id": "0NwskmTTMNV-"
      },
      "source": [
        "X_train,X_test,Y_train,Y_test = train_test_split(X,Y,test_size=0.2,random_state=2)"
      ],
      "execution_count": 25,
      "outputs": []
    },
    {
      "cell_type": "markdown",
      "metadata": {
        "id": "ioyYM3gOPmMl"
      },
      "source": [
        "Model Training Regressor Randomforest"
      ]
    },
    {
      "cell_type": "code",
      "metadata": {
        "id": "yKrpnjeLPVBD"
      },
      "source": [
        "#training the model\n",
        "regrossor = RandomForestRegressor(n_estimators=1000)"
      ],
      "execution_count": 26,
      "outputs": []
    },
    {
      "cell_type": "code",
      "metadata": {
        "colab": {
          "base_uri": "https://localhost:8080/"
        },
        "id": "Pw0DcO81P-Yj",
        "outputId": "35c895c2-274c-484e-ac9c-356cb5ac56bd"
      },
      "source": [
        "regrossor.fit(X_train,Y_train)"
      ],
      "execution_count": 27,
      "outputs": [
        {
          "output_type": "execute_result",
          "data": {
            "text/plain": [
              "RandomForestRegressor(bootstrap=True, ccp_alpha=0.0, criterion='mse',\n",
              "                      max_depth=None, max_features='auto', max_leaf_nodes=None,\n",
              "                      max_samples=None, min_impurity_decrease=0.0,\n",
              "                      min_impurity_split=None, min_samples_leaf=1,\n",
              "                      min_samples_split=2, min_weight_fraction_leaf=0.0,\n",
              "                      n_estimators=1000, n_jobs=None, oob_score=False,\n",
              "                      random_state=None, verbose=0, warm_start=False)"
            ]
          },
          "metadata": {},
          "execution_count": 27
        }
      ]
    },
    {
      "cell_type": "code",
      "metadata": {
        "id": "9gh2lHqHQGJf"
      },
      "source": [
        ""
      ],
      "execution_count": null,
      "outputs": []
    },
    {
      "cell_type": "markdown",
      "metadata": {
        "id": "BNLaTwiPQf5g"
      },
      "source": [
        "Model Evalvation"
      ]
    },
    {
      "cell_type": "code",
      "metadata": {
        "id": "K7sZkKqZQiuN"
      },
      "source": [
        "test_data_predict = regrossor.predict(X_test)"
      ],
      "execution_count": 28,
      "outputs": []
    },
    {
      "cell_type": "code",
      "metadata": {
        "colab": {
          "base_uri": "https://localhost:8080/"
        },
        "id": "5595yyQ_Qtwp",
        "outputId": "e51563a2-1125-4395-e1eb-70b053ae9c1d"
      },
      "source": [
        "print(test_data_predict)"
      ],
      "execution_count": 29,
      "outputs": [
        {
          "output_type": "stream",
          "name": "stdout",
          "text": [
            "[168.55963943  82.07391985 116.02184023 127.63558076 120.67823133\n",
            " 154.75493741 150.2255588  126.09096042 117.44742873 125.98690074\n",
            " 116.61551113 172.03570083 141.57759849 167.8539087  115.24006005\n",
            " 117.59672048 138.92323338 170.21105096 159.39291286 159.21110937\n",
            " 155.08886016 125.2164602  176.1981694  157.14639363 125.22119036\n",
            "  93.80933974  77.4834501  120.53915006 119.1100195  167.47356977\n",
            "  88.12308048 125.24762015  91.12898071 117.71909031 121.09380918\n",
            " 136.23158109 115.46165124 115.23344076 147.39665963 107.20953091\n",
            " 104.55164249  87.20108789 126.49344064 117.92156993 153.091599\n",
            " 119.58845007 108.38379988 108.03207818  93.17241057 127.09537785\n",
            "  74.96737038 113.65623916 121.2761401  111.28098903 118.90091893\n",
            " 120.78580944 159.63400999 167.92376097 147.00625687  85.84281859\n",
            "  94.28227035  86.83466886  90.58104006 118.96804066 126.4212105\n",
            " 127.5310501  169.44968982 122.27945945 117.40439889  98.54099032\n",
            " 168.27422118 142.95810855 132.05799251 121.21978218 121.2347494\n",
            " 119.75350062 114.53409161 118.24145049 107.08486097 127.89440062\n",
            " 113.95838978 107.4223699  116.80357067 119.67388881  88.92378053\n",
            "  88.26993865 146.5429924  127.23283998 113.43492022 110.24551832\n",
            " 108.15452905  77.53062892 169.36676191 114.08174911 121.61783907\n",
            " 127.88147176 155.02018798  91.74773931 136.00687139 159.02821324\n",
            " 125.52041066 125.45928064 130.58716183 114.89211114 119.86948998\n",
            "  92.12224992 110.30843888 167.68210929 156.73908935 114.21141954\n",
            " 106.61390124  79.58047982 113.21955044 125.84141074 107.14467935\n",
            " 119.37410099 155.69325318 159.88026892 120.32546997 134.75885303\n",
            " 101.51975979 117.51716799 119.24193021 112.97393079 102.77891913\n",
            " 160.14684805  98.83294037 147.80775926 125.59894111 169.71363915\n",
            " 125.70355878 127.3352476  127.38849169 113.7703194  112.95087066\n",
            " 123.55192896 102.15502888  89.25174985 124.57717956 101.4194693\n",
            " 107.21286923 113.43627046 117.41563074  99.20758956 121.77094049\n",
            " 163.3857792   87.41429867 106.78926975 117.16356073 127.71078118\n",
            " 124.12345069  80.7804292  120.37063055 157.66352834  87.93238966\n",
            " 110.32107948 118.87775906 172.41816869 102.99782903 105.61773039\n",
            " 122.52290036 158.09204803  87.58042834  93.17198035 112.77547025\n",
            " 177.47189926 114.42339983 119.25912012  94.56740092 125.67126025\n",
            " 166.057541   114.80927073 116.75604129  88.32771866 148.88014108\n",
            " 120.36958945  89.55313989 112.01100001 117.33194046 118.74037113\n",
            "  88.08371942  94.05802002 117.08819014 118.54181186 120.27436051\n",
            " 126.7756082  121.91424969 149.55963023 165.18121037 118.57487957\n",
            " 120.3213414  150.60438054 118.40383908 172.66705894 105.51585926\n",
            " 104.97637095 149.43881113 113.75345072 124.81459116 147.41832954\n",
            " 119.60561129 115.32504051 112.42873    113.45327206 141.27266119\n",
            " 117.91108764 102.91253031 115.8604211  103.83161174  98.7297904\n",
            " 117.39976055  90.66772007  91.55923042 153.647819   102.70511981\n",
            " 154.66189092 114.33977164 138.44910134  90.13013825 115.51079948\n",
            " 114.45692975 122.96219037 121.75571018 165.30720163  92.89798943\n",
            " 135.38281127 121.36174926 120.80778064 104.68495021 141.2835832\n",
            " 121.73071921 116.65839041 113.49255081 127.05266757 122.6651295\n",
            " 125.79261947 121.23044048  86.85528907 132.43787137 144.80576199\n",
            "  92.68711953 158.4831097  159.0293027  126.2858391  164.78548942\n",
            " 108.79507956 109.68856087 103.62481825  94.2951208  127.78787273\n",
            " 107.11812053 161.6300101  121.69923037 131.96073005 130.6302616\n",
            " 160.38123993  90.17600858 175.47919184 127.48209042 126.8177285\n",
            "  86.4001393  124.45514958 150.39103742  89.70141015 106.93219969\n",
            " 108.97882985  84.43860898 135.95861002 154.99534221 138.64216368\n",
            "  73.9650603  152.12844111 126.09619995 126.73537008 127.49036904\n",
            " 108.62491958 156.2982002  114.54579109 116.98996141 125.24319943\n",
            " 154.03130135 121.31576996 156.38928905  92.95090058 125.50525136\n",
            " 125.68773025  87.88653039  92.13493926 126.20385938 128.23684343\n",
            " 113.16973044 117.6382975  120.92221012 127.05970801 119.7112511\n",
            " 136.31171085  93.97033937 119.86981045 113.25705107  94.3014294\n",
            " 108.85558976  87.20778919 109.01402937  89.61507972  92.45025019\n",
            " 131.59780309 162.33694039  89.28637012 119.6587409  133.24691183\n",
            " 123.87016023 128.24620161 101.95093847  89.00888877 131.48092067\n",
            " 120.04040043 108.6506299  167.64995112 115.20946039  86.61766906\n",
            " 118.88569061  91.03783967 161.75939037 116.54582041 121.53805006\n",
            " 160.25941772 120.10136931 112.69465947 108.46494873 126.6967198\n",
            "  75.99420041 103.01586984 127.62943246 121.78629932  92.58884008\n",
            " 132.07759067 118.15622119 115.99081976 154.46889292 159.65892081\n",
            " 110.07150959 153.79182773 119.28816087 160.55084081 118.61988019\n",
            " 157.66673944 115.10095943 116.59228032 148.88340917 114.77746071\n",
            " 125.81991863 165.5423194  117.71279015 125.14877931 153.24543343\n",
            " 153.52925235 132.1109504  114.77390029 121.25762204 124.95489075\n",
            "  89.78882041 123.0799998  154.9050516  111.72265038 106.72956981\n",
            " 161.78252105 118.5284098  165.67797006 134.10260089 114.90593971\n",
            " 153.00185901 168.69738002 114.74553016 114.06452125 158.59725907\n",
            "  85.20778892 127.12032057 127.90639065 128.90043991 124.28929061\n",
            " 123.85884072  90.58656064 153.14018054  97.11851976 137.60921973\n",
            "  89.09413924 107.39211005 115.03795052 112.74037083 124.28188921\n",
            "  91.36384888 125.38864116 162.34711897 119.90887884 165.123281\n",
            " 126.78547813 112.35679016 127.55900942  94.94203903  91.05522977\n",
            " 103.20051901 120.79778001  83.12387951 126.38172991 160.27035447\n",
            " 117.26094077 118.33288989 119.94036995 122.7296896  120.07599133\n",
            " 121.49128999 118.18979048 107.08016994 148.36968018 126.29109839\n",
            " 115.7497208   73.98092999 127.8148711  154.72086087 122.40838009\n",
            " 125.60579059  88.84410021 103.40590866 124.59746037 120.29502029\n",
            "  73.44802084 151.7505802  121.17375033 104.74022995  86.34032787\n",
            " 115.10650906 172.19942847 119.9188303  159.54248784 113.20217959\n",
            " 121.24769013 118.59882112  95.93656985 118.73749006 125.84745034\n",
            " 118.49250951  96.01788068 153.88106169 122.00521008 147.39975011\n",
            " 159.24171242 113.83958008 122.51841936 149.28154811 127.13574022\n",
            " 165.80398053 135.83562031 120.01482955 167.44369868 108.37241915\n",
            " 121.74898866 138.62640091 106.65678887]\n"
          ]
        }
      ]
    },
    {
      "cell_type": "markdown",
      "metadata": {
        "id": "rGkUOo_eRFOs"
      },
      "source": [
        "comparing the real values with the predicted values"
      ]
    },
    {
      "cell_type": "code",
      "metadata": {
        "colab": {
          "base_uri": "https://localhost:8080/"
        },
        "id": "Kv1gxnVEQxEw",
        "outputId": "ef9e2c9c-3bc9-46d2-f0a5-9e2b87984b2f"
      },
      "source": [
        "#R square error\n",
        "error_sqr = metrics.r2_score(Y_test,test_data_predict)\n",
        "print('the R square value is',error_sqr)"
      ],
      "execution_count": 30,
      "outputs": [
        {
          "output_type": "stream",
          "name": "stdout",
          "text": [
            "the R square value is 0.9896872952329744\n"
          ]
        }
      ]
    },
    {
      "cell_type": "markdown",
      "metadata": {
        "id": "UIOesVuESUgD"
      },
      "source": [
        "compare the acctual values and the predicted values by plot"
      ]
    },
    {
      "cell_type": "code",
      "metadata": {
        "id": "Kf17QydgSScf"
      },
      "source": [
        "Y_test = list(Y_test)"
      ],
      "execution_count": 31,
      "outputs": []
    },
    {
      "cell_type": "code",
      "metadata": {
        "colab": {
          "base_uri": "https://localhost:8080/",
          "height": 295
        },
        "id": "eQv0PQ0KSg8D",
        "outputId": "c7017627-b752-4f9c-d3eb-987edcd81813"
      },
      "source": [
        "plt.plot(Y_test,color='b',label='Actual value')\n",
        "plt.plot(test_data_predict,color='y',label='Predicted value')\n",
        "plt.title('Actual Value VS Predicted Values')\n",
        "plt.xlabel('Number of values')\n",
        "plt.ylabel('Gold price')\n",
        "plt.legend()\n",
        "plt.show()"
      ],
      "execution_count": 32,
      "outputs": [
        {
          "output_type": "display_data",
          "data": {
            "image/png": "[encoded data removed]",
            "text/plain": [
              "<Figure size 432x288 with 1 Axes>"
            ]
          },
          "metadata": {
            "needs_background": "light"
          }
        }
      ]
    },
    {
      "cell_type": "markdown",
      "metadata": {
        "id": "8MzMo6uvUtP8"
      },
      "source": [
        "Thank You\n"
      ]
    },
    {
      "cell_type": "code",
      "metadata": {
        "id": "gDAmiUFZT24w"
      },
      "source": [
        ""
      ],
      "execution_count": null,
      "outputs": []
    }
  ]
}